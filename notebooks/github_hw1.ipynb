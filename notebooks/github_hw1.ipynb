{
  "nbformat": 4,
  "nbformat_minor": 0,
  "metadata": {
    "kernelspec": {
      "display_name": "Python 3",
      "language": "python",
      "name": "python3"
    },
    "language_info": {
      "codemirror_mode": {
        "name": "ipython",
        "version": 3
      },
      "file_extension": ".py",
      "mimetype": "text/x-python",
      "name": "python",
      "nbconvert_exporter": "python",
      "pygments_lexer": "ipython3",
      "version": "3.6.9"
    },
    "colab": {
      "name": "github_hw1.ipynb",
      "provenance": []
    }
  },
  "cells": [
    {
      "cell_type": "markdown",
      "metadata": {
        "id": "6BqQaI-D3rQZ"
      },
      "source": [
        "# Домашнее задание\n",
        "Домашнее задание выполнять в этой тетрадке. \n",
        "\n",
        "- [x] Сделать fork репозитория cvr_cource (https://github.com/StarkitRobots/cvr_course) - 1 балл\n",
        "- [x] Создать ветку update_readme - 1 балл\n",
        "- [x] Добавить одну строчку в README.md \n",
        "- [x] Запушить (git push) изменения в ветку update_readme - 3 балла\n",
        "- [x] Слить (merge) ветку update_readme в ветку develop - 1 балл\n",
        "- [x] Сохранить эту тетрадку с выполненной домашкой себе в репозиторий в ветку develop - 3 балла\n",
        "- [ ] Слить (merge) ветку develop в ветку main - 1 балл"
      ]
    },
    {
      "cell_type": "markdown",
      "metadata": {
        "id": "A6WIyxiW3rQn"
      },
      "source": [
        "Материалы к семинару:\n",
        "1. [Удачная модель ветвления](https://m.habr.com/ru/post/106912/)\n",
        "2. [Зачем нужен Git](https://guides.hexlet.io/git-guide/)\n",
        "3. [Самые популярные ошибки и их решения](https://tproger.ru/translations/most-common-git-screwupsquestions-and-solutions/)\n",
        "4. [Ветвление](https://git-scm.com/book/ru/v2/%D0%92%D0%B5%D1%82%D0%B2%D0%BB%D0%B5%D0%BD%D0%B8%D0%B5-%D0%B2-Git-%D0%9E-%D0%B2%D0%B5%D1%82%D0%B2%D0%BB%D0%B5%D0%BD%D0%B8%D0%B8-%D0%B2-%D0%B4%D0%B2%D1%83%D1%85-%D1%81%D0%BB%D0%BE%D0%B2%D0%B0%D1%85)\n",
        "5. [Инструкция по всему Git](https://git-scm.com/book/ru/v2)\n",
        "6. [Приложение для обучения Git](https://learngitbranching.js.org/?locale=ru_RU), спасибо Анне Касаткиной за ссылку на отличный материал"
      ]
    },
    {
      "cell_type": "code",
      "metadata": {
        "id": "bsjEn83I3rQp",
        "colab": {
          "base_uri": "https://localhost:8080/"
        },
        "outputId": "c393f1c0-28af-410d-f315-06e3351483cd"
      },
      "source": [
        "! git fetch origin develop \r\n"
      ],
      "execution_count": 55,
      "outputs": [
        {
          "output_type": "stream",
          "text": [
            "From https://github.com/PetrShulzhenko/cvr_course\n",
            " * branch            develop    -> FETCH_HEAD\n"
          ],
          "name": "stdout"
        }
      ]
    },
    {
      "cell_type": "code",
      "metadata": {
        "colab": {
          "base_uri": "https://localhost:8080/"
        },
        "id": "1xMun5mEoR9e",
        "outputId": "61c16f23-daeb-40e6-c71a-e76562fb7628"
      },
      "source": [
        "! git commit -m \"update readme.md\"\r\n",
        "\r\n"
      ],
      "execution_count": 61,
      "outputs": [
        {
          "output_type": "stream",
          "text": [
            "[develop d778223] update readme.md\n"
          ],
          "name": "stdout"
        }
      ]
    },
    {
      "cell_type": "code",
      "metadata": {
        "colab": {
          "base_uri": "https://localhost:8080/"
        },
        "id": "WNruPxr4qch-",
        "outputId": "34686eee-3b01-4d3a-9f64-67bf26369ee3"
      },
      "source": [
        "! git push origin-pst develop"
      ],
      "execution_count": 68,
      "outputs": [
        {
          "output_type": "stream",
          "text": [
            "fatal: 'origin-pst' does not appear to be a git repository\n",
            "fatal: Could not read from remote repository.\n",
            "\n",
            "Please make sure you have the correct access rights\n",
            "and the repository exists.\n"
          ],
          "name": "stdout"
        }
      ]
    }
  ]
}